{
 "cells": [
  {
   "cell_type": "code",
   "execution_count": null,
   "id": "7e595d3f",
   "metadata": {},
   "outputs": [],
   "source": [
    "def greet(name):\n",
    "    print(\"hello,\"+name+ \",Good morning!\" )\n",
    "greet(\"Trupthi\")"
   ]
  },
  {
   "cell_type": "code",
   "execution_count": null,
   "id": "4afa1907",
   "metadata": {},
   "outputs": [],
   "source": [
    "def sum(a,b):\n",
    "    print(a+b)\n",
    "sum(1,2)"
   ]
  },
  {
   "cell_type": "code",
   "execution_count": null,
   "id": "5e1de1f9",
   "metadata": {},
   "outputs": [],
   "source": [
    "def my_function(*Student):\n",
    "    print(\"The brilliant student is \"+Student[0])\n",
    "    \n",
    "my_function(\"Trup\",\"Sonu\",\"Aara\")\n"
   ]
  },
  {
   "cell_type": "code",
   "execution_count": null,
   "id": "ba5b485d",
   "metadata": {},
   "outputs": [],
   "source": [
    "def capitalize_first_and_last(sentence):\n",
    "    words=sentence.split()\n",
    "    capitalized_words=[]\n",
    "    for word in words:\n",
    "        capitalized_word=word[0].upper()+word[1:-1]+word[-1].upper()\n",
    "        capitalized_words.append(capitalized_word)\n",
    "    return capitalized_words\n",
    "sentence=input()\n",
    "print(capitalize_first_and_last(sentence))"
   ]
  },
  {
   "cell_type": "code",
   "execution_count": null,
   "id": "2abf8b8a",
   "metadata": {},
   "outputs": [],
   "source": [
    "pip install numpy"
   ]
  },
  {
   "cell_type": "code",
   "execution_count": 6,
   "id": "b1bc6a6b",
   "metadata": {},
   "outputs": [
    {
     "name": "stdout",
     "output_type": "stream",
     "text": [
      "reading file\n",
      "kuyguyg\n"
     ]
    }
   ],
   "source": [
    "with open(\"demo.txt\",'r') as my_file:\n",
    "    content = my_file.read()\n",
    "    print(\"reading file\")\n",
    "    print(content)\n",
    "    "
   ]
  },
  {
   "cell_type": "code",
   "execution_count": 7,
   "id": "e28be8fe",
   "metadata": {},
   "outputs": [
    {
     "data": {
      "text/plain": [
       "'C:\\\\Users\\\\BGI-PC-0820'"
      ]
     },
     "execution_count": 7,
     "metadata": {},
     "output_type": "execute_result"
    }
   ],
   "source": [
    "pwd\n"
   ]
  },
  {
   "cell_type": "code",
   "execution_count": 8,
   "id": "0d63cdab",
   "metadata": {},
   "outputs": [
    {
     "name": "stdout",
     "output_type": "stream",
     "text": [
      "Reading file: \n",
      "Replaced text!\n"
     ]
    }
   ],
   "source": [
    "with open(\"demo.txt\",'w+') as my_file:\n",
    "    my_file.write(\"Replaced text!\")\n",
    "with open(\"demo.txt\",'r') as my_file:\n",
    "    content = my_file.read()\n",
    "    print(\"Reading file: \")\n",
    "    print(content)"
   ]
  },
  {
   "cell_type": "code",
   "execution_count": null,
   "id": "01d8207c",
   "metadata": {},
   "outputs": [],
   "source": []
  }
 ],
 "metadata": {
  "kernelspec": {
   "display_name": "Python 3 (ipykernel)",
   "language": "python",
   "name": "python3"
  },
  "language_info": {
   "codemirror_mode": {
    "name": "ipython",
    "version": 3
   },
   "file_extension": ".py",
   "mimetype": "text/x-python",
   "name": "python",
   "nbconvert_exporter": "python",
   "pygments_lexer": "ipython3",
   "version": "3.9.13"
  }
 },
 "nbformat": 4,
 "nbformat_minor": 5
}

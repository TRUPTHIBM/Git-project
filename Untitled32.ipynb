{
 "cells": [
  {
   "cell_type": "code",
   "execution_count": null,
   "id": "adedc82c",
   "metadata": {},
   "outputs": [],
   "source": [
    "a=int(input('Enter 1st number'))\n",
    "b=int(input('Enter 2nd number'))\n",
    "c=a*b\n",
    "print(c)"
   ]
  },
  {
   "cell_type": "code",
   "execution_count": null,
   "id": "1eacd01d",
   "metadata": {},
   "outputs": [],
   "source": [
    "a=int(input('Enter 1st number'))\n",
    "b=int(input('Enter 2nd number'))\n",
    "c=a*b\n",
    "print(c)"
   ]
  },
  {
   "cell_type": "code",
   "execution_count": null,
   "id": "548f0087",
   "metadata": {},
   "outputs": [],
   "source": []
  }
 ],
 "metadata": {
  "kernelspec": {
   "display_name": "Python 3 (ipykernel)",
   "language": "python",
   "name": "python3"
  },
  "language_info": {
   "codemirror_mode": {
    "name": "ipython",
    "version": 3
   },
   "file_extension": ".py",
   "mimetype": "text/x-python",
   "name": "python",
   "nbconvert_exporter": "python",
   "pygments_lexer": "ipython3",
   "version": "3.9.13"
  }
 },
 "nbformat": 4,
 "nbformat_minor": 5
}

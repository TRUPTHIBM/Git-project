{
 "cells": [
  {
   "cell_type": "markdown",
   "id": "d5aa444b",
   "metadata": {},
   "source": [
    "name = \"TRUPTHIbm\"\n",
    "name[0:8]\n"
   ]
  },
  {
   "cell_type": "code",
   "execution_count": 8,
   "id": "8d2fea7b",
   "metadata": {},
   "outputs": [
    {
     "name": "stdout",
     "output_type": "stream",
     "text": [
      "False\n"
     ]
    }
   ],
   "source": [
    "x=15\n",
    "print(x>3 and x<10)"
   ]
  },
  {
   "cell_type": "code",
   "execution_count": 9,
   "id": "58f298b2",
   "metadata": {},
   "outputs": [
    {
     "name": "stdout",
     "output_type": "stream",
     "text": [
      "True\n"
     ]
    }
   ],
   "source": [
    "x=5\n",
    "print(x>4 or x<4)"
   ]
  },
  {
   "cell_type": "code",
   "execution_count": 10,
   "id": "e7d8fd16",
   "metadata": {},
   "outputs": [
    {
     "name": "stdout",
     "output_type": "stream",
     "text": [
      "True\n"
     ]
    }
   ],
   "source": [
    "x=5\n",
    "print(not(x>3 and x<4))"
   ]
  },
  {
   "cell_type": "code",
   "execution_count": 11,
   "id": "507d5630",
   "metadata": {},
   "outputs": [
    {
     "ename": "SyntaxError",
     "evalue": "invalid syntax (2882260655.py, line 4)",
     "output_type": "error",
     "traceback": [
      "\u001b[1;36m  File \u001b[1;32m\"C:\\Users\\BGI-PC-0820\\AppData\\Local\\Temp\\ipykernel_9572\\2882260655.py\"\u001b[1;36m, line \u001b[1;32m4\u001b[0m\n\u001b[1;33m    print(\"si=\")...................................................................................................................................................................................................................................................................................................................................................................................................................................................................\u001b[0m\n\u001b[1;37m                ^\u001b[0m\n\u001b[1;31mSyntaxError\u001b[0m\u001b[1;31m:\u001b[0m invalid syntax\n"
     ]
    }
   ],
   "source": [
    "print(\"Finding simple interest\")\n",
    "print(\"Enter the values of p t and r\")\n",
    "si=p*t*r/100\n",
    "print(\"si=\")..................................................................................................................................................................................................................................................................................................................................................................................................................................................................."
   ]
  },
  {
   "cell_type": "code",
   "execution_count": null,
   "id": "3884122c",
   "metadata": {},
   "outputs": [
    {
     "name": "stdout",
     "output_type": "stream",
     "text": [
      "Finding simple interest\n"
     ]
    }
   ],
   "source": [
    "print(\"Finding simple interest\")\n",
    "print(int(input(\"Enter the values of p t and r\")))\n",
    "si=p*t*r/100\n",
    "print(\"si=\")"
   ]
  },
  {
   "cell_type": "code",
   "execution_count": null,
   "id": "319b0286",
   "metadata": {},
   "outputs": [],
   "source": [
    "print(\"Finding simple interest\")\n",
    "p=int(input())\n",
    "t=int(input())\n",
    "r=int(input())\n",
    "si=p*t*r/100\n",
    "print(si)"
   ]
  },
  {
   "cell_type": "code",
   "execution_count": null,
   "id": "f865d16f",
   "metadata": {},
   "outputs": [],
   "source": [
    "print(\"Finding simple interest\")\n",
    "p=int(input())\n",
    "t=int(input())\n",
    "r=int(input())\n",
    "si=p*t*r/100\n",
    "print(si)"
   ]
  },
  {
   "cell_type": "code",
   "execution_count": null,
   "id": "6321f143",
   "metadata": {},
   "outputs": [],
   "source": []
  }
 ],
 "metadata": {
  "kernelspec": {
   "display_name": "Python 3 (ipykernel)",
   "language": "python",
   "name": "python3"
  },
  "language_info": {
   "codemirror_mode": {
    "name": "ipython",
    "version": 3
   },
   "file_extension": ".py",
   "mimetype": "text/x-python",
   "name": "python",
   "nbconvert_exporter": "python",
   "pygments_lexer": "ipython3",
   "version": "3.9.13"
  }
 },
 "nbformat": 4,
 "nbformat_minor": 5
}

{
 "cells": [
  {
   "cell_type": "code",
   "execution_count": 2,
   "id": "8a4d0657",
   "metadata": {},
   "outputs": [
    {
     "name": "stdout",
     "output_type": "stream",
     "text": [
      "3.9.13\n"
     ]
    }
   ],
   "source": [
    "from platform import python_version\n",
    "print(python_version())"
   ]
  },
  {
   "cell_type": "code",
   "execution_count": 3,
   "id": "1bc9ae5e",
   "metadata": {},
   "outputs": [],
   "source": [
    "myvar=\"Hello\"\n",
    "my_var=\"Hello\"\n",
    "_my_var=\"Hello\"\n",
    "myVar=\"Hello\"\n",
    "MYVAR=\"Hello\"\n",
    "myvar2=\"Hello\""
   ]
  },
  {
   "cell_type": "code",
   "execution_count": null,
   "id": "9793dd6f",
   "metadata": {},
   "outputs": [],
   "source": [
    "print('Enter a number')\n",
    "n=int(input())\n",
    "if n % 2 ==0:\n",
    " print('number is even')\n",
    "else:\n",
    " print('number is odd')"
   ]
  },
  {
   "cell_type": "code",
   "execution_count": null,
   "id": "bfee94dd",
   "metadata": {},
   "outputs": [],
   "source": [
    "name=TRUPTHI\n",
    "name(5:0)"
   ]
  },
  {
   "cell_type": "code",
   "execution_count": null,
   "id": "e2cf69fc",
   "metadata": {},
   "outputs": [],
   "source": [
    "name=TRUPTHI\n",
    "name(5:0)"
   ]
  },
  {
   "cell_type": "code",
   "execution_count": null,
   "id": "2acbf84e",
   "metadata": {},
   "outputs": [],
   "source": []
  }
 ],
 "metadata": {
  "kernelspec": {
   "display_name": "Python 3 (ipykernel)",
   "language": "python",
   "name": "python3"
  },
  "language_info": {
   "codemirror_mode": {
    "name": "ipython",
    "version": 3
   },
   "file_extension": ".py",
   "mimetype": "text/x-python",
   "name": "python",
   "nbconvert_exporter": "python",
   "pygments_lexer": "ipython3",
   "version": "3.9.13"
  }
 },
 "nbformat": 4,
 "nbformat_minor": 5
}

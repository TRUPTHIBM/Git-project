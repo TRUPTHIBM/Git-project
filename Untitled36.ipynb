{
 "cells": [
  {
   "cell_type": "code",
   "execution_count": 2,
   "id": "a1892caa",
   "metadata": {},
   "outputs": [
    {
     "name": "stdout",
     "output_type": "stream",
     "text": [
      "[1 2 3]\n",
      "<class 'numpy.ndarray'>\n"
     ]
    }
   ],
   "source": [
    "import numpy as np\n",
    "one_d_array = np.array([1,2,3])\n",
    "print(one_d_array)\n",
    "print(type(one_d_array))\n"
   ]
  },
  {
   "cell_type": "code",
   "execution_count": 8,
   "id": "21f61d61",
   "metadata": {},
   "outputs": [
    {
     "name": "stdout",
     "output_type": "stream",
     "text": [
      "[[1 2]\n",
      " [3 4]]\n"
     ]
    }
   ],
   "source": [
    "three_d_array = np.array([[1,2],[3,4]])\n",
    "print(three_d_array)"
   ]
  },
  {
   "cell_type": "code",
   "execution_count": 9,
   "id": "846d5c8f",
   "metadata": {},
   "outputs": [
    {
     "name": "stdout",
     "output_type": "stream",
     "text": [
      "(2, 3)\n"
     ]
    }
   ],
   "source": [
    "twoD_array = np.array([[11,22,33],[44,55,66]])\n",
    "print(twoD_array.shape)"
   ]
  },
  {
   "cell_type": "code",
   "execution_count": 10,
   "id": "98759e43",
   "metadata": {},
   "outputs": [
    {
     "name": "stdout",
     "output_type": "stream",
     "text": [
      "(4, 2, 3)\n"
     ]
    }
   ],
   "source": [
    "threeD_array = np.array([[[11,22,33],[44,55,66]],\n",
    "                       [[10,20,30],[40,50,60]],\n",
    "                       [[12,22,32],[42,52,62]],\n",
    "                       [[14,24,34],[44,54,64]]])\n",
    "print(threeD_array.shape)"
   ]
  },
  {
   "cell_type": "code",
   "execution_count": 11,
   "id": "6c485acf",
   "metadata": {},
   "outputs": [
    {
     "name": "stdout",
     "output_type": "stream",
     "text": [
      "2\n"
     ]
    }
   ],
   "source": [
    "array1 = np.array([[2,4,6],\n",
    "                  [1,3,5]])\n",
    "print(array1.ndim)"
   ]
  },
  {
   "cell_type": "code",
   "execution_count": 12,
   "id": "01f8395e",
   "metadata": {},
   "outputs": [
    {
     "name": "stdout",
     "output_type": "stream",
     "text": [
      "6\n"
     ]
    }
   ],
   "source": [
    "array3 = np.array([[1,2,3],\n",
    "                  [6,7,8]])\n",
    "print(array3.size)"
   ]
  },
  {
   "cell_type": "code",
   "execution_count": 13,
   "id": "9f27daa5",
   "metadata": {},
   "outputs": [
    {
     "name": "stdout",
     "output_type": "stream",
     "text": [
      "Memory consumption by an element in the array:  24\n",
      "Memory usage by list array:  240\n"
     ]
    }
   ],
   "source": [
    "import sys\n",
    "sample_list = [0,1,2,3,4,5,6,7,8,9]\n",
    "print(\"Memory consumption by an element in the array: \",sys.getsizeof(sample_list[0]))\n",
    "print(\"Memory usage by list array: \",(sys.getsizeof(sample_list[0]))*len(sample_list))"
   ]
  },
  {
   "cell_type": "code",
   "execution_count": 14,
   "id": "72aaa455",
   "metadata": {},
   "outputs": [
    {
     "name": "stdout",
     "output_type": "stream",
     "text": [
      "[1 2 3]\n"
     ]
    }
   ],
   "source": [
    "my_tuple = (1,2,3)\n",
    "array = np.asarray(my_tuple)\n",
    "print(array)"
   ]
  },
  {
   "cell_type": "code",
   "execution_count": 15,
   "id": "4e511198",
   "metadata": {},
   "outputs": [
    {
     "name": "stdout",
     "output_type": "stream",
     "text": [
      "1\n",
      "3\n"
     ]
    }
   ],
   "source": [
    "data = np.array([1,3,5,7,9])\n",
    "print(data[0])\n",
    "print(data[1])"
   ]
  },
  {
   "cell_type": "code",
   "execution_count": 16,
   "id": "c689927f",
   "metadata": {},
   "outputs": [
    {
     "name": "stdout",
     "output_type": "stream",
     "text": [
      "[1 3 5]\n",
      "[1 3]\n",
      "[1 3]\n"
     ]
    }
   ],
   "source": [
    "print(data[0:3])\n",
    "print(data[0:2])\n",
    "print(data[:2])"
   ]
  },
  {
   "cell_type": "code",
   "execution_count": 17,
   "id": "e054f89d",
   "metadata": {},
   "outputs": [
    {
     "name": "stdout",
     "output_type": "stream",
     "text": [
      "[[[ 1  2]\n",
      "  [ 3  4]\n",
      "  [ 5  6]]\n",
      "\n",
      " [[ 7  8]\n",
      "  [ 9 10]\n",
      "  [11 12]]\n",
      "\n",
      " [[13 14]\n",
      "  [15 16]\n",
      "  [17 18]]]\n",
      "[[[ 1  2]\n",
      "  [ 3  4]\n",
      "  [ 5  6]]\n",
      "\n",
      " [[ 7  8]\n",
      "  [ 9 10]\n",
      "  [11 12]]]\n",
      "[[[ 4]\n",
      "  [ 6]]\n",
      "\n",
      " [[10]\n",
      "  [12]]]\n"
     ]
    }
   ],
   "source": [
    "a = np.array([[[1,2],[3,4],[5,6]],\n",
    "            [[7,8],[9,10],[11,12]],\n",
    "            [[13,14],[15,16],[17,18]]])\n",
    "print(a)\n",
    "print(a[0:2])\n",
    "print(a[0:2,1:,1:])"
   ]
  },
  {
   "cell_type": "code",
   "execution_count": null,
   "id": "a6a71ef2",
   "metadata": {},
   "outputs": [],
   "source": []
  }
 ],
 "metadata": {
  "kernelspec": {
   "display_name": "Python 3 (ipykernel)",
   "language": "python",
   "name": "python3"
  },
  "language_info": {
   "codemirror_mode": {
    "name": "ipython",
    "version": 3
   },
   "file_extension": ".py",
   "mimetype": "text/x-python",
   "name": "python",
   "nbconvert_exporter": "python",
   "pygments_lexer": "ipython3",
   "version": "3.9.13"
  }
 },
 "nbformat": 4,
 "nbformat_minor": 5
}

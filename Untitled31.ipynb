{
 "cells": [
  {
   "cell_type": "code",
   "execution_count": 1,
   "id": "5c4374ff",
   "metadata": {},
   "outputs": [
    {
     "name": "stdout",
     "output_type": "stream",
     "text": [
      "Finding simple interest\n",
      "2\n",
      "5\n",
      "2\n",
      "0.2\n"
     ]
    }
   ],
   "source": [
    "print(\"Finding simple interest\")\n",
    "p=int(input())\n",
    "t=int(input())\n",
    "r=int(input())\n",
    "si=p*t*r/100\n",
    "print(si)"
   ]
  },
  {
   "cell_type": "code",
   "execution_count": 9,
   "id": "aa2a460b",
   "metadata": {},
   "outputs": [
    {
     "data": {
      "text/plain": [
       "'Trupthi'"
      ]
     },
     "execution_count": 9,
     "metadata": {},
     "output_type": "execute_result"
    }
   ],
   "source": [
    "a='TRUPTHI'\n",
    "a.capitalize()"
   ]
  },
  {
   "cell_type": "code",
   "execution_count": 10,
   "id": "dc003e2d",
   "metadata": {},
   "outputs": [
    {
     "data": {
      "text/plain": [
       "'trupthi'"
      ]
     },
     "execution_count": 10,
     "metadata": {},
     "output_type": "execute_result"
    }
   ],
   "source": [
    "a='TRUPTHI'\n",
    "a.lower()"
   ]
  },
  {
   "cell_type": "code",
   "execution_count": 11,
   "id": "f576f42a",
   "metadata": {},
   "outputs": [
    {
     "data": {
      "text/plain": [
       "'trupthi'"
      ]
     },
     "execution_count": 11,
     "metadata": {},
     "output_type": "execute_result"
    }
   ],
   "source": [
    "a='TRUPTHI'\n",
    "a.swapcase()"
   ]
  },
  {
   "cell_type": "code",
   "execution_count": 12,
   "id": "e7bd40a5",
   "metadata": {},
   "outputs": [
    {
     "data": {
      "text/plain": [
       "'TRUPTHI'"
      ]
     },
     "execution_count": 12,
     "metadata": {},
     "output_type": "execute_result"
    }
   ],
   "source": [
    "a='TRUPTHI'\n",
    "a.upper()"
   ]
  },
  {
   "cell_type": "code",
   "execution_count": 13,
   "id": "fabcdad7",
   "metadata": {},
   "outputs": [
    {
     "name": "stdout",
     "output_type": "stream",
     "text": [
      "['parul', 22, 'bharat', 45.5, 'vadodara', 100]\n",
      "<class 'list'>\n"
     ]
    }
   ],
   "source": [
    "lst=['parul',22,'bharat',45.5,'vadodara',100]\n",
    "print(lst)\n",
    "print(type(lst))"
   ]
  },
  {
   "cell_type": "code",
   "execution_count": 14,
   "id": "671c446c",
   "metadata": {},
   "outputs": [
    {
     "data": {
      "text/plain": [
       "6"
      ]
     },
     "execution_count": 14,
     "metadata": {},
     "output_type": "execute_result"
    }
   ],
   "source": [
    "len(lst)"
   ]
  },
  {
   "cell_type": "code",
   "execution_count": 17,
   "id": "6e0b8b8d",
   "metadata": {},
   "outputs": [
    {
     "name": "stdout",
     "output_type": "stream",
     "text": [
      "['parul', 'bharat', 'vadodara', 100]\n"
     ]
    }
   ],
   "source": [
    "lst.remove(22)\n",
    "print(lst)"
   ]
  },
  {
   "cell_type": "code",
   "execution_count": 18,
   "id": "36885ffa",
   "metadata": {},
   "outputs": [
    {
     "name": "stdout",
     "output_type": "stream",
     "text": [
      "['me', 'i', 'myself', 'we']\n"
     ]
    }
   ],
   "source": [
    "a=['me','i','myself']\n",
    "a.append('we')\n",
    "print(a)"
   ]
  },
  {
   "cell_type": "code",
   "execution_count": 20,
   "id": "34425cf4",
   "metadata": {},
   "outputs": [
    {
     "name": "stdout",
     "output_type": "stream",
     "text": [
      "['pigeon', 'eagle', 'sparrow', 'peacock', 'cats', 'dogs', 'cow', 'deepak']\n"
     ]
    }
   ],
   "source": [
    "birds=['pigeon','eagle','sparrow','peacock']\n",
    "animals=['cats','dogs','cow','deepak']\n",
    "birds.extend(animals)\n",
    "print(birds)"
   ]
  },
  {
   "cell_type": "code",
   "execution_count": 21,
   "id": "56591806",
   "metadata": {},
   "outputs": [
    {
     "name": "stdout",
     "output_type": "stream",
     "text": [
      "['mom', 'sis', 'dad', 'me']\n"
     ]
    }
   ],
   "source": [
    "family=['mom','sis','me']\n",
    "family.insert(2,'dad')\n",
    "print(family)"
   ]
  },
  {
   "cell_type": "code",
   "execution_count": 24,
   "id": "3a0ae1fe",
   "metadata": {},
   "outputs": [
    {
     "name": "stdout",
     "output_type": "stream",
     "text": [
      "enter a word:TRUPTHI is a lovely girl\n"
     ]
    }
   ],
   "source": [
    " text=input('enter a word:')\n",
    "    "
   ]
  },
  {
   "cell_type": "code",
   "execution_count": 25,
   "id": "79cbc850",
   "metadata": {},
   "outputs": [
    {
     "data": {
      "text/plain": [
       "['TRUPTHI', 'is', 'a', 'lovely', 'girl']"
      ]
     },
     "execution_count": 25,
     "metadata": {},
     "output_type": "execute_result"
    }
   ],
   "source": [
    "text.split()\n"
   ]
  },
  {
   "cell_type": "code",
   "execution_count": 26,
   "id": "e90f6739",
   "metadata": {},
   "outputs": [
    {
     "name": "stdout",
     "output_type": "stream",
     "text": [
      "('python', 48, 'c', 92)\n"
     ]
    }
   ],
   "source": [
    "tup1=('python',48)\n",
    "tup2=('c',92)\n",
    "tup3=tup1+tup2\n",
    "print(tup3)"
   ]
  },
  {
   "cell_type": "code",
   "execution_count": 28,
   "id": "a25ba247",
   "metadata": {},
   "outputs": [
    {
     "data": {
      "text/plain": [
       "'26'"
      ]
     },
     "execution_count": 28,
     "metadata": {},
     "output_type": "execute_result"
    }
   ],
   "source": [
    "dict={'a':'26','b':'17','c':'18'}\n",
    "dict['a']"
   ]
  },
  {
   "cell_type": "code",
   "execution_count": null,
   "id": "b7a4f05b",
   "metadata": {},
   "outputs": [],
   "source": []
  }
 ],
 "metadata": {
  "kernelspec": {
   "display_name": "Python 3 (ipykernel)",
   "language": "python",
   "name": "python3"
  },
  "language_info": {
   "codemirror_mode": {
    "name": "ipython",
    "version": 3
   },
   "file_extension": ".py",
   "mimetype": "text/x-python",
   "name": "python",
   "nbconvert_exporter": "python",
   "pygments_lexer": "ipython3",
   "version": "3.9.13"
  }
 },
 "nbformat": 4,
 "nbformat_minor": 5
}

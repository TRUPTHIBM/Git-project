{
 "cells": [
  {
   "cell_type": "code",
   "execution_count": 2,
   "id": "11fa277c",
   "metadata": {},
   "outputs": [
    {
     "name": "stdout",
     "output_type": "stream",
     "text": [
      "2345\n"
     ]
    },
    {
     "data": {
      "text/plain": [
       "120"
      ]
     },
     "execution_count": 2,
     "metadata": {},
     "output_type": "execute_result"
    }
   ],
   "source": [
    "def digit_product(n):\n",
    "    prod=1\n",
    "    while(n>0):\n",
    "        digit=n%10\n",
    "        prod=prod*digit\n",
    "        n=n//10\n",
    "    return prod\n",
    "n=int(input())\n",
    "digit_product(n)"
   ]
  },
  {
   "cell_type": "code",
   "execution_count": 4,
   "id": "cb1d6b6f",
   "metadata": {},
   "outputs": [
    {
     "name": "stdout",
     "output_type": "stream",
     "text": [
      "24\n"
     ]
    }
   ],
   "source": [
    "n=1234\n",
    "prod=1\n",
    "while(n>0):\n",
    "    digit=n%10\n",
    "    prod=prod*digit\n",
    "    n=n//10\n",
    "print(prod)"
   ]
  },
  {
   "cell_type": "code",
   "execution_count": 6,
   "id": "c4d013d6",
   "metadata": {},
   "outputs": [
    {
     "name": "stdout",
     "output_type": "stream",
     "text": [
      "10\n"
     ]
    }
   ],
   "source": [
    "n=1234\n",
    "prod=0\n",
    "while(n>0):\n",
    "    digit=n%10\n",
    "    prod=prod+digit\n",
    "    n=n//10\n",
    "print(prod)"
   ]
  },
  {
   "cell_type": "code",
   "execution_count": 7,
   "id": "5b6e0df0",
   "metadata": {},
   "outputs": [
    {
     "name": "stdout",
     "output_type": "stream",
     "text": [
      "24\n"
     ]
    }
   ],
   "source": [
    "n=1234\n",
    "prod=1\n",
    "for i in str(n):\n",
    "    prod=prod*int(i)\n",
    "print(prod)"
   ]
  },
  {
   "cell_type": "code",
   "execution_count": 8,
   "id": "ab3b99c6",
   "metadata": {},
   "outputs": [
    {
     "name": "stdout",
     "output_type": "stream",
     "text": [
      "10\n"
     ]
    }
   ],
   "source": [
    "n=1234\n",
    "prod=0\n",
    "for i in str(n):\n",
    "    prod=prod+int(i)\n",
    "print(prod)"
   ]
  },
  {
   "cell_type": "code",
   "execution_count": 11,
   "id": "9441b9cc",
   "metadata": {},
   "outputs": [
    {
     "name": "stdout",
     "output_type": "stream",
     "text": [
      "my name is trupthi\n",
      "['MY', 'NamE', 'IS', 'TrupthI']\n"
     ]
    }
   ],
   "source": [
    "sentence=input()\n",
    "words=sentence.split()\n",
    "capitalized_words=[]\n",
    "for word in words:\n",
    "    capitalized_word=word[0].upper()+word[1:-1]+word[-1].upper()\n",
    "    capitalized_words.append(capitalized_word)\n",
    "print(capitalized_words)"
   ]
  },
  {
   "cell_type": "code",
   "execution_count": 14,
   "id": "e81bda58",
   "metadata": {},
   "outputs": [
    {
     "name": "stdout",
     "output_type": "stream",
     "text": [
      "hello,Trupthi,Good morning!\n"
     ]
    }
   ],
   "source": [
    "def greet(name):\n",
    "    print(\"hello,\"+name+ \",Good morning!\" )\n",
    "greet(\"Trupthi\")"
   ]
  },
  {
   "cell_type": "code",
   "execution_count": null,
   "id": "8b986428",
   "metadata": {},
   "outputs": [],
   "source": []
  },
  {
   "cell_type": "code",
   "execution_count": null,
   "id": "a86c2e38",
   "metadata": {},
   "outputs": [],
   "source": []
  },
  {
   "cell_type": "code",
   "execution_count": null,
   "id": "82dffa49",
   "metadata": {},
   "outputs": [],
   "source": []
  },
  {
   "cell_type": "code",
   "execution_count": null,
   "id": "4cfc8dc8",
   "metadata": {},
   "outputs": [],
   "source": []
  },
  {
   "cell_type": "code",
   "execution_count": null,
   "id": "ed77751f",
   "metadata": {},
   "outputs": [],
   "source": []
  },
  {
   "cell_type": "code",
   "execution_count": null,
   "id": "4debd0b5",
   "metadata": {},
   "outputs": [],
   "source": []
  },
  {
   "cell_type": "code",
   "execution_count": null,
   "id": "f8dd7713",
   "metadata": {},
   "outputs": [],
   "source": []
  },
  {
   "cell_type": "code",
   "execution_count": null,
   "id": "ba976535",
   "metadata": {},
   "outputs": [],
   "source": []
  },
  {
   "cell_type": "code",
   "execution_count": null,
   "id": "ee8cc132",
   "metadata": {},
   "outputs": [],
   "source": []
  },
  {
   "cell_type": "code",
   "execution_count": null,
   "id": "ce5faee9",
   "metadata": {},
   "outputs": [],
   "source": []
  },
  {
   "cell_type": "code",
   "execution_count": null,
   "id": "0f7ffd86",
   "metadata": {},
   "outputs": [],
   "source": []
  },
  {
   "cell_type": "code",
   "execution_count": null,
   "id": "5487a250",
   "metadata": {},
   "outputs": [],
   "source": []
  },
  {
   "cell_type": "code",
   "execution_count": null,
   "id": "ed9806e7",
   "metadata": {},
   "outputs": [],
   "source": []
  },
  {
   "cell_type": "code",
   "execution_count": null,
   "id": "d7b2da52",
   "metadata": {},
   "outputs": [],
   "source": []
  }
 ],
 "metadata": {
  "kernelspec": {
   "display_name": "Python 3 (ipykernel)",
   "language": "python",
   "name": "python3"
  },
  "language_info": {
   "codemirror_mode": {
    "name": "ipython",
    "version": 3
   },
   "file_extension": ".py",
   "mimetype": "text/x-python",
   "name": "python",
   "nbconvert_exporter": "python",
   "pygments_lexer": "ipython3",
   "version": "3.9.13"
  }
 },
 "nbformat": 4,
 "nbformat_minor": 5
}
